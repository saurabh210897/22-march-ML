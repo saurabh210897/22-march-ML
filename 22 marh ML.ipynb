{
 "cells": [
  {
   "cell_type": "code",
   "execution_count": null,
   "id": "95d9f46a-978c-4059-970f-ffb5fee48c62",
   "metadata": {},
   "outputs": [],
   "source": [
    "# Q1. Pearson correlation coefficient is a measure of the linear relationship between two variables. Suppose \n",
    "# you have collected data on the amount of time students spend studying for an exam and their final exam \n",
    "# scores. Calculate the Pearson correlation coefficient between these two variables and interpret the result.\n",
    "\n",
    "# Q2. Spearman's rank correlation is a measure of the monotonic relationship between two variables. \n",
    "# Suppose you have collected data on the amount of sleep individuals get each night and their overall job \n",
    "# satisfaction level on a scale of 1 to 10. Calculate the Spearman's rank correlation between these two \n",
    "# variables and interpret the result.\n",
    "\n",
    "# Q3. Suppose you are conducting a study to examine the relationship between the number of hours of \n",
    "# exercise per week and body mass index (BMI) in a sample of adults. You collected data on both variables \n",
    "# for 50 participants. Calculate the Pearson correlation coefficient and the Spearman's rank correlation \n",
    "# between these two variables and compare the results.\n",
    "\n",
    "# Q4. A researcher is interested in examining the relationship between the number of hours individuals \n",
    "# spend watching television per day and their level of physical activity. The researcher collected data on \n",
    "# both variables from a sample of 50 participants. Calculate the Pearson correlation coefficient between \n",
    "# these two variables.\n",
    "\n",
    "# Q5. A survey was conducted to examine the relationship between age and preference for a particular \n",
    "# brand of soft drink. The survey results are shown below:\n",
    "    \n",
    "#     Age(Years)                     Soft drink preference\n",
    "#        25                                 coke\n",
    "#        42                                 pepsi\n",
    "#        37                            mountain dew\n",
    "#        19                                 coke\n",
    "#        31                                 pepsi\n",
    "#        28                                 coke\n",
    "      \n",
    "# Q6. A company is interested in examining the relationship between the number of sales calls made per day \n",
    "# and the number of sales made per week. The company collected data on both variables from a sample of \n",
    "# 30 sales representatives. Calculate the Pearson correlation coefficient between these two variables."
   ]
  },
  {
   "cell_type": "code",
   "execution_count": null,
   "id": "7429f2b7-8b74-4a55-80fb-527f0ba674e7",
   "metadata": {},
   "outputs": [],
   "source": [
    "# Q1. Pearson correlation coefficient is a measure of the linear relationship between two variables. Suppose \n",
    "# you have collected data on the amount of time students spend studying for an exam and their final exam \n",
    "# scores. Calculate the Pearson correlation coefficient between these two variables and interpret the result."
   ]
  },
  {
   "cell_type": "code",
   "execution_count": 1,
   "id": "fbcf31f9-d945-4b5a-a693-7749b057f084",
   "metadata": {},
   "outputs": [],
   "source": [
    "# To calculate the Pearson correlation coefficient between the time students spend studying and their final exam scores, you need to follow these steps:\n",
    "\n",
    "# Calculate the mean and standard deviation for each variable.\n",
    "# Calculate the covariance between the two variables.\n",
    "# Divide the covariance by the product of the standard deviations of the two variables.\n",
    "# Interpret the result.\n",
    "# Let's assume you have the following data:\n",
    "\n",
    "# Time spent studying (in hours): 5, 10, 15, 20, 25\n",
    "# Final exam scores: 60, 70, 80, 90, 100\n",
    "\n",
    "# Step 1: Calculate the mean and standard deviation for each variable.\n",
    "\n",
    "# Mean of time spent studying = (5+10+15+20+25)/5 = 15\n",
    "# Standard deviation of time spent studying = 7.91\n",
    "\n",
    "# Mean of final exam scores = (60+70+80+90+100)/5 = 80\n",
    "# Standard deviation of final exam scores = 15.81\n",
    "\n",
    "# Step 2: Calculate the covariance between the two variables.\n",
    "\n",
    "# Covariance = Σ[(x - mean of x)(y - mean of y)]/(n-1)\n",
    "# Where x is the time spent studying, y is the final exam score, and n is the sample size.\n",
    "\n",
    "# Covariance = [(5-15)(60-80) + (10-15)(70-80) + (15-15)(80-80) + (20-15)(90-80) + (25-15)*(100-80)]/(5-1)\n",
    "# Covariance = 250\n",
    "\n",
    "# Step 3: Divide the covariance by the product of the standard deviations of the two variables.\n",
    "\n",
    "# Pearson correlation coefficient (r) = Covariance / (Standard deviation of time spent studying * Standard deviation of final exam scores)\n",
    "# r = 78.125 / (7.91 * 15.81)\n",
    "# r = 0.95\n",
    "\n",
    "# Step 4: Interpret the result.\n",
    "\n",
    "# The Pearson correlation coefficient (r) is 0.95, which indicates a strong positive linear relationship between the time students spend studying \n",
    "# and their final exam scores. In other words, the more time students spend studying, the higher their final exam scores tend to be. \n",
    "# However, it's important to note that correlation does not imply causation, so we cannot conclude that studying causes higher exam scores \n",
    "# without further investigation."
   ]
  },
  {
   "cell_type": "code",
   "execution_count": 4,
   "id": "9b891ae5-8e0c-435b-ab19-257378fd5245",
   "metadata": {},
   "outputs": [],
   "source": [
    "# Q2. Spearman's rank correlation is a measure of the monotonic relationship between two variables. \n",
    "# Suppose you have collected data on the amount of sleep individuals get each night and their overall job \n",
    "# satisfaction level on a scale of 1 to 10. Calculate the Spearman's rank correlation between these two \n",
    "# variables and interpret the result."
   ]
  },
  {
   "cell_type": "code",
   "execution_count": 6,
   "id": "e9cfe80a-6590-48de-bebe-3746c196d4b8",
   "metadata": {},
   "outputs": [
    {
     "name": "stdout",
     "output_type": "stream",
     "text": [
      "Spearman's rank correlation coefficient: 0.9746473773006418\n",
      "p-value: 1.753053927876978e-06\n"
     ]
    }
   ],
   "source": [
    "from scipy.stats import spearmanr\n",
    "\n",
    "# Amount of sleep individuals get each night (in hours)\n",
    "x = [8, 7, 6, 7, 5, 9, 6, 8, 7, 8]\n",
    "\n",
    "# Overall job satisfaction level on a scale of 1 to 10\n",
    "y = [9, 7, 6, 8, 5, 10, 7, 9, 8, 9]\n",
    "\n",
    "# Calculate the Spearman's rank correlation coefficient\n",
    "cho, p_val = spearmanr(x, y)\n",
    "\n",
    "print(\"Spearman's rank correlation coefficient:\", cho)\n",
    "print(\"p-value:\", p_val)\n"
   ]
  },
  {
   "cell_type": "code",
   "execution_count": 7,
   "id": "c373bb38-db16-4b83-af50-be07e5c39d31",
   "metadata": {},
   "outputs": [],
   "source": [
    "# The output shows that the Spearman's rank correlation coefficient between the amount of sleep individuals get each night and their overall job satisfaction\n",
    "# level is 0.97, which indicates a strong positive monotonic relationship between the two variables. \n",
    "# This means that as the amount of sleep individuals get each night increases, their overall job satisfaction level tends to increase as well.\n",
    "\n",
    "# The p-value is less than 0.05, indicating that the correlation is statistically significant at a 95% confidence level. \n",
    "# This means that we can reject the null hypothesis that there is no correlation between the two variables,\n",
    "# and conclude that there is a significant positive monotonic relationship between the amount of sleep individuals get each night\n",
    "# and their overall job satisfaction level."
   ]
  },
  {
   "cell_type": "code",
   "execution_count": 8,
   "id": "5f14b454-ee67-46e6-9f30-7c229b8ce09e",
   "metadata": {},
   "outputs": [],
   "source": [
    "# Q3. Suppose you are conducting a study to examine the relationship between the number of hours of \n",
    "# exercise per week and body mass index (BMI) in a sample of adults. You collected data on both variables \n",
    "# for 50 participants. Calculate the Pearson correlation coefficient and the Spearman's rank correlation \n",
    "# between these two variables and compare the results."
   ]
  },
  {
   "cell_type": "code",
   "execution_count": 11,
   "id": "9f4a4462-94b9-40be-a7c9-f83a541b09de",
   "metadata": {},
   "outputs": [
    {
     "name": "stdout",
     "output_type": "stream",
     "text": [
      "Pearson correlation coefficient: 0.972683192158011\n",
      "p-value: 4.229488697573135e-32\n",
      "Spearman's rank correlation coefficient: 0.9790848161603345\n",
      "p-value: 7.483233307023227e-35\n"
     ]
    }
   ],
   "source": [
    "import numpy as np\n",
    "from scipy.stats import pearsonr, spearmanr\n",
    "\n",
    "# Number of hours of exercise per week\n",
    "x = np.array([3, 5, 2, 6, 4, 5, 1, 2, 3, 5, 2, 6, 4, 5, 1, 2, 3, 5, 2, 6, 4, 5, 1, 2, 3, 5, 2, 6, 4, 5, 1, 2, 3, 5, 2, 6, 4, 5, 1, 2, 3, 5, 2, 6, 4, 5, 1, 2, 3, 5])\n",
    "\n",
    "# Body mass index (BMI)\n",
    "y = np.array([25.2, 26.4, 23.1, 28.8, 25.9, 27.3, 22.2, 23.9, 24.6, 26.8, 23.4, 28.1, 25.6, 27.2, 22.7, 24.0, 24.9, \n",
    "              26.5, 23.2, 28.7, 25.3, 27.5, 22.8, 24.3, 24.8, 26.6, 23.3, 28.4, 25.0, 27.6, 22.9, 24.4, 24.7, 26.7, \n",
    "              23.0, 28.3, 25.1, 27.7, 22.6, 24.1, 24.5, 26.9, 23.5, 28.2, 25.4, 27.8, 22.3, 24.2, 24.9, 26.3])\n",
    "\n",
    "# Calculate the Pearson correlation coefficient\n",
    "r, pval = pearsonr(x, y)\n",
    "\n",
    "print(\"Pearson correlation coefficient:\", r)\n",
    "print(\"p-value:\", pval)\n",
    "\n",
    "# Calculate the Spearman's rank correlation coefficient\n",
    "rho, pval = spearmanr(x, y)\n",
    "\n",
    "print(\"Spearman's rank correlation coefficient:\", rho)\n",
    "print(\"p-value:\", pval)\n"
   ]
  },
  {
   "cell_type": "code",
   "execution_count": 12,
   "id": "b54c3a52-3168-4433-bc20-3227d3195d7d",
   "metadata": {},
   "outputs": [],
   "source": [
    "# The output shows that both the Pearson correlation coefficient and the Spearman's rank correlation coefficient are positive, \n",
    "# indicating a strong positive relationship between the number of hours of exercise per week and body mass index."
   ]
  },
  {
   "cell_type": "code",
   "execution_count": 13,
   "id": "33622d1b-2ed3-4849-8865-1932e2e37faf",
   "metadata": {},
   "outputs": [],
   "source": [
    "# Q4. A researcher is interested in examining the relationship between the number of hours individuals \n",
    "# spend watching television per day and their level of physical activity. The researcher collected data on \n",
    "# both variables from a sample of 50 participants. Calculate the Pearson correlation coefficient between \n",
    "# these two variables."
   ]
  },
  {
   "cell_type": "code",
   "execution_count": 17,
   "id": "976d9109-9815-40f6-b62b-145f6b3db59d",
   "metadata": {},
   "outputs": [
    {
     "ename": "ValueError",
     "evalue": "x and y must have the same length.",
     "output_type": "error",
     "traceback": [
      "\u001b[0;31m---------------------------------------------------------------------------\u001b[0m",
      "\u001b[0;31mValueError\u001b[0m                                Traceback (most recent call last)",
      "Cell \u001b[0;32mIn[17], line 8\u001b[0m\n\u001b[1;32m      5\u001b[0m activity \u001b[38;5;241m=\u001b[39m [\u001b[38;5;241m30\u001b[39m, \u001b[38;5;241m60\u001b[39m, \u001b[38;5;241m45\u001b[39m, \u001b[38;5;241m15\u001b[39m, \u001b[38;5;241m10\u001b[39m, \u001b[38;5;241m20\u001b[39m, \u001b[38;5;241m30\u001b[39m, \u001b[38;5;241m15\u001b[39m, \u001b[38;5;241m45\u001b[39m, \u001b[38;5;241m50\u001b[39m, \u001b[38;5;241m40\u001b[39m, \u001b[38;5;241m20\u001b[39m, \u001b[38;5;241m10\u001b[39m, \u001b[38;5;241m60\u001b[39m, \u001b[38;5;241m45\u001b[39m, \u001b[38;5;241m30\u001b[39m, \u001b[38;5;241m20\u001b[39m, \u001b[38;5;241m10\u001b[39m, \u001b[38;5;241m40\u001b[39m, \u001b[38;5;241m50\u001b[39m, \u001b[38;5;241m30\u001b[39m, \u001b[38;5;241m15\u001b[39m, \u001b[38;5;241m10\u001b[39m, \u001b[38;5;241m20\u001b[39m, \u001b[38;5;241m30\u001b[39m, \u001b[38;5;241m15\u001b[39m, \u001b[38;5;241m45\u001b[39m, \u001b[38;5;241m50\u001b[39m, \u001b[38;5;241m40\u001b[39m, \u001b[38;5;241m20\u001b[39m, \u001b[38;5;241m10\u001b[39m, \u001b[38;5;241m60\u001b[39m, \u001b[38;5;241m45\u001b[39m, \u001b[38;5;241m30\u001b[39m, \u001b[38;5;241m20\u001b[39m, \u001b[38;5;241m10\u001b[39m, \u001b[38;5;241m40\u001b[39m, \u001b[38;5;241m50\u001b[39m, \u001b[38;5;241m30\u001b[39m, \u001b[38;5;241m15\u001b[39m, \u001b[38;5;241m10\u001b[39m, \u001b[38;5;241m20\u001b[39m, \u001b[38;5;241m30\u001b[39m, \u001b[38;5;241m15\u001b[39m, \u001b[38;5;241m45\u001b[39m, \u001b[38;5;241m50\u001b[39m, \u001b[38;5;241m40\u001b[39m, \u001b[38;5;241m20\u001b[39m, \u001b[38;5;241m10\u001b[39m, \u001b[38;5;241m60\u001b[39m, \u001b[38;5;241m45\u001b[39m, \u001b[38;5;241m30\u001b[39m, \u001b[38;5;241m20\u001b[39m]\n\u001b[1;32m      7\u001b[0m \u001b[38;5;66;03m# calculate Pearson correlation coefficient and p-value\u001b[39;00m\n\u001b[0;32m----> 8\u001b[0m corr_coef, p_value \u001b[38;5;241m=\u001b[39m \u001b[43mpearsonr\u001b[49m\u001b[43m(\u001b[49m\u001b[43mhours_tv\u001b[49m\u001b[43m,\u001b[49m\u001b[43m \u001b[49m\u001b[43mactivity\u001b[49m\u001b[43m)\u001b[49m\n\u001b[1;32m     10\u001b[0m \u001b[38;5;28mprint\u001b[39m(\u001b[38;5;124m\"\u001b[39m\u001b[38;5;124mPearson correlation coefficient: \u001b[39m\u001b[38;5;132;01m{:.2f}\u001b[39;00m\u001b[38;5;124m\"\u001b[39m\u001b[38;5;241m.\u001b[39mformat(corr_coef))\n\u001b[1;32m     11\u001b[0m \u001b[38;5;28mprint\u001b[39m(\u001b[38;5;124m\"\u001b[39m\u001b[38;5;124mp-value: \u001b[39m\u001b[38;5;132;01m{:.2f}\u001b[39;00m\u001b[38;5;124m\"\u001b[39m\u001b[38;5;241m.\u001b[39mformat(p_value))\n",
      "File \u001b[0;32m/opt/conda/lib/python3.10/site-packages/scipy/stats/_stats_py.py:4415\u001b[0m, in \u001b[0;36mpearsonr\u001b[0;34m(x, y, alternative)\u001b[0m\n\u001b[1;32m   4413\u001b[0m n \u001b[38;5;241m=\u001b[39m \u001b[38;5;28mlen\u001b[39m(x)\n\u001b[1;32m   4414\u001b[0m \u001b[38;5;28;01mif\u001b[39;00m n \u001b[38;5;241m!=\u001b[39m \u001b[38;5;28mlen\u001b[39m(y):\n\u001b[0;32m-> 4415\u001b[0m     \u001b[38;5;28;01mraise\u001b[39;00m \u001b[38;5;167;01mValueError\u001b[39;00m(\u001b[38;5;124m'\u001b[39m\u001b[38;5;124mx and y must have the same length.\u001b[39m\u001b[38;5;124m'\u001b[39m)\n\u001b[1;32m   4417\u001b[0m \u001b[38;5;28;01mif\u001b[39;00m n \u001b[38;5;241m<\u001b[39m \u001b[38;5;241m2\u001b[39m:\n\u001b[1;32m   4418\u001b[0m     \u001b[38;5;28;01mraise\u001b[39;00m \u001b[38;5;167;01mValueError\u001b[39;00m(\u001b[38;5;124m'\u001b[39m\u001b[38;5;124mx and y must have length at least 2.\u001b[39m\u001b[38;5;124m'\u001b[39m)\n",
      "\u001b[0;31mValueError\u001b[0m: x and y must have the same length."
     ]
    }
   ],
   "source": [
    "from scipy.stats import pearsonr\n",
    "\n",
    "# create two lists of data\n",
    "hours_tv = [2, 3, 1, 4, 5, 2, 3, 4, 1, 2, 3, 4, 5, 1, 2, 3, 4, 5, 2, 3, 1, 4, 5, 2, 3, 4, 1, 2, 3, 4, 5, 1, 2, 3, 4, 5, 2, 3, 1, 4, 5, 2, 3, 4, 1, 2, 3, 4, 5, 1, 2, 3]\n",
    "activity = [30, 60, 45, 15, 10, 20, 30, 15, 45, 50, 40, 20, 10, 60, 45, 30, 20, 10, 40, 50, 30, 15, 10, 20, 30, 15, 45, 50, 40, 20, 10, 60, 45, 30, 20, 10, 40, 50, 30, 15, 10, 20, 30, 15, 45, 50, 40, 20, 10, 60, 45, 30, 20]\n",
    "\n",
    "# calculate Pearson correlation coefficient and p-value\n",
    "corr_coef, p_value = pearsonr(hours_tv, activity)\n",
    "\n",
    "print(\"Pearson correlation coefficient: {:.2f}\".format(corr_coef))\n",
    "print(\"p-value: {:.2f}\".format(p_value))"
   ]
  },
  {
   "cell_type": "code",
   "execution_count": 23,
   "id": "11aa1d8c-8789-4f07-9cca-70bfb653dc03",
   "metadata": {},
   "outputs": [],
   "source": [
    "# Q5. A survey was conducted to examine the relationship between age and preference for a particular \n",
    "# brand of soft drink. The survey results are shown below:\n",
    "    \n",
    "#     Age(Years)                     Soft drink preference\n",
    "\n",
    "#        25                                 coke\n",
    "#        42                                 pepsi\n",
    "#        37                            mountain dew\n",
    "#        19                                 coke\n",
    "#        31                                 pepsi\n",
    "#        28                                 coke"
   ]
  },
  {
   "cell_type": "code",
   "execution_count": 25,
   "id": "d2aaf864-8c09-46c7-bef2-6b30bbc7e767",
   "metadata": {},
   "outputs": [
    {
     "name": "stdout",
     "output_type": "stream",
     "text": [
      "Soft drink preference  coke  mountain dew  pepsi\n",
      "Age                                             \n",
      "19                        1             0      0\n",
      "25                        1             0      0\n",
      "28                        1             0      0\n",
      "31                        0             0      1\n",
      "37                        0             1      0\n",
      "42                        0             0      1\n",
      "Chi-square test statistic: 12.00\n",
      "p-value: 0.2851\n",
      "degrees of freedom: 10\n",
      "expected frequencies:\n",
      "[[0.5        0.16666667 0.33333333]\n",
      " [0.5        0.16666667 0.33333333]\n",
      " [0.5        0.16666667 0.33333333]\n",
      " [0.5        0.16666667 0.33333333]\n",
      " [0.5        0.16666667 0.33333333]\n",
      " [0.5        0.16666667 0.33333333]]\n"
     ]
    }
   ],
   "source": [
    "import pandas as pd\n",
    "from scipy.stats import chi2_contingency\n",
    "\n",
    "# create a dictionary of the data\n",
    "data = {\n",
    "    \"Age\": [25, 42, 37, 19, 31, 28],\n",
    "    \"Soft drink preference\": [\"coke\", \"pepsi\", \"mountain dew\", \"coke\", \"pepsi\", \"coke\"]\n",
    "}\n",
    "\n",
    "# create a pandas dataframe\n",
    "df = pd.DataFrame(data)\n",
    "\n",
    "# create a contingency table\n",
    "contingency_table = pd.crosstab(df[\"Age\"], df[\"Soft drink preference\"])\n",
    "\n",
    "# perform chi-square test of independence\n",
    "chi2, p, dof, expected = chi2_contingency(contingency_table)\n",
    "\n",
    "# print results\n",
    "print(contingency_table)\n",
    "print(\"Chi-square test statistic: {:.2f}\".format(chi2))\n",
    "print(\"p-value: {:.4f}\".format(p))\n",
    "print(\"degrees of freedom: {}\".format(dof))\n",
    "print(\"expected frequencies:\\n{}\".format(expected))\n"
   ]
  },
  {
   "cell_type": "code",
   "execution_count": 26,
   "id": "d5e781f9-5e3d-4a53-b318-0323004dcb7e",
   "metadata": {},
   "outputs": [],
   "source": [
    "#Since the p-value is greater than 0.05, we fail to reject the null hypothesis that there is no significant association between age and soft drink preference."
   ]
  },
  {
   "cell_type": "code",
   "execution_count": 27,
   "id": "7012642c-3d2b-48f0-a3bb-e47ae7da02c3",
   "metadata": {},
   "outputs": [],
   "source": [
    "# Q6. A company is interested in examining the relationship between the number of sales calls made per day \n",
    "# and the number of sales made per week. The company collected data on both variables from a sample of \n",
    "# 30 sales representatives. Calculate the Pearson correlation coefficient between these two variables."
   ]
  },
  {
   "cell_type": "code",
   "execution_count": 28,
   "id": "00d3e188-8c6f-415c-acd8-2f6d08f03e05",
   "metadata": {},
   "outputs": [],
   "source": [
    "# Assuming the data for the number of sales calls made per day and the number of sales made per week are already collected and stored in two separate lists,\n",
    "# let's call them \"calls\" and \"sales\" respectively.\n",
    "\n",
    "# Here's how you can calculate the Pearson correlation coefficient in Python using the pearsonr function from the scipy.stats module:"
   ]
  },
  {
   "cell_type": "code",
   "execution_count": 31,
   "id": "db4c1403-a387-4079-8f97-0662de816121",
   "metadata": {},
   "outputs": [
    {
     "name": "stdout",
     "output_type": "stream",
     "text": [
      "Pearson correlation coefficient: 0.94\n",
      "p-value: 0.00\n"
     ]
    }
   ],
   "source": [
    "from scipy.stats import pearsonr\n",
    "\n",
    "# data\n",
    "calls = [20, 15, 18, 22, 25, 17, 16, 21, 19, 24, 23, 16, 18, 20, 19, 22, 17, 15, 21, 23, 16, 19, 20, 18, 24, 21, 25, 17, 22, 15]\n",
    "sales = [3, 2, 2, 4, 5, 3, 2, 4, 3, 5, 4, 2, 2, 3, 3, 4, 2, 2, 4, 4, 2, 3, 3, 2, 5, 4, 5, 3, 4, 2]\n",
    "\n",
    "# calculate Pearson correlation coefficient and p-value\n",
    "corr_coef, p_value = pearsonr(calls, sales)\n",
    "\n",
    "print(\"Pearson correlation coefficient: {:.2f}\".format(corr_coef)) ##{:.2f} is a string formatting syntax in Python. It is used to format a floating-point number with two decimal places.\n",
    "print(\"p-value: {:.2f}\".format(p_value))\n"
   ]
  },
  {
   "cell_type": "code",
   "execution_count": 32,
   "id": "f6390893-397c-4806-a64a-371382824f5a",
   "metadata": {},
   "outputs": [],
   "source": [
    "# The Pearson correlation coefficient is 0.94, which indicates a strong positive correlation between the number of sales calls made per day \n",
    "# and the number of sales made per week. The p-value is less than 0.05, which indicates that the correlation is statistically significant."
   ]
  },
  {
   "cell_type": "code",
   "execution_count": null,
   "id": "58426f55-481d-4457-a7dd-95b1290f590c",
   "metadata": {},
   "outputs": [],
   "source": []
  }
 ],
 "metadata": {
  "kernelspec": {
   "display_name": "Python 3 (ipykernel)",
   "language": "python",
   "name": "python3"
  },
  "language_info": {
   "codemirror_mode": {
    "name": "ipython",
    "version": 3
   },
   "file_extension": ".py",
   "mimetype": "text/x-python",
   "name": "python",
   "nbconvert_exporter": "python",
   "pygments_lexer": "ipython3",
   "version": "3.10.8"
  }
 },
 "nbformat": 4,
 "nbformat_minor": 5
}
